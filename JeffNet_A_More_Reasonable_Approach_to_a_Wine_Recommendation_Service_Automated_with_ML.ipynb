{
  "nbformat": 4,
  "nbformat_minor": 0,
  "metadata": {
    "colab": {
      "name": "JeffNet - A More Reasonable Approach to a Wine Recommendation Service Automated with ML",
      "provenance": [],
      "collapsed_sections": [
        "SbVWviCyBOoG",
        "4lmF9dKABRkz",
        "J2oddQ_0BTW-",
        "T5DzUjA3BWD7"
      ]
    },
    "kernelspec": {
      "name": "python3",
      "display_name": "Python 3"
    },
    "accelerator": "GPU"
  },
  "cells": [
    {
      "cell_type": "markdown",
      "metadata": {
        "id": "SbVWviCyBOoG"
      },
      "source": [
        "# Setup"
      ]
    },
    {
      "cell_type": "markdown",
      "metadata": {
        "id": "4lmF9dKABRkz"
      },
      "source": [
        "### import libraries\r\n",
        "keras/tensorflow for machine learning, spacey for POS tagging\r\n",
        "as well as a function to make things a little easier down the road"
      ]
    },
    {
      "cell_type": "code",
      "metadata": {
        "id": "ekK83tb9npl_"
      },
      "source": [
        "import keras\r\n",
        "import tensorflow_hub as hub\r\n",
        "import tensorflow as tf\r\n",
        "import numpy as np\r\n",
        "import spacy\r\n",
        "nlp = spacy.load(\"en_core_web_sm\")\r\n",
        "embed = hub.load(\"https://tfhub.dev/google/universal-sentence-encoder/4\")\r\n",
        "def encode(strng):\r\n",
        "    return np.array(embed([strng])[0])"
      ],
      "execution_count": null,
      "outputs": []
    },
    {
      "cell_type": "markdown",
      "metadata": {
        "id": "J2oddQ_0BTW-"
      },
      "source": [
        "### load data\r\n",
        "you can find the csv here: https://www.kaggle.com/zynicide/wine-reviews?select=winemag-data_first150k.csv\r\n",
        "\r\n",
        "generate dense representations of the wine data and reviews"
      ]
    },
    {
      "cell_type": "code",
      "metadata": {
        "id": "z7W7O8oln0Tj"
      },
      "source": [
        "import pandas as pd\r\n",
        "reviews = pd.read_csv(\"winemag-data_first150k.csv\")['description']\r\n",
        "revcopy = reviews\r\n",
        "c = pd.read_csv('winemag-data_first150k.csv')['country']\r\n",
        "d = pd.read_csv('winemag-data_first150k.csv')['designation']\r\n",
        "b = pd.read_csv('winemag-data_first150k.csv')['province']\r\n",
        "r = pd.read_csv('winemag-data_first150k.csv')['region_1']\r\n",
        "v = pd.read_csv('winemag-data_first150k.csv')['variety']\r\n",
        "w = pd.read_csv('winemag-data_first150k.csv')['winery']\r\n",
        "p = pd.read_csv('winemag-data_first150k.csv')['price']"
      ],
      "execution_count": null,
      "outputs": []
    },
    {
      "cell_type": "code",
      "metadata": {
        "id": "cHLd6pyGprJD"
      },
      "source": [
        "X = []\r\n",
        "y = []\r\n",
        "for i in range(len(c)):\r\n",
        "    X.append(encode(str(c[i])+\" \"+str(d[i])+\" \"+str(r[i])+\" \"+str(v[i])+\" \"+str(w[i])+\" Price: $\"+str(p[i])+\" \"+str(b[i])))\r\n",
        "    y.append(encode(reviews[i]))"
      ],
      "execution_count": null,
      "outputs": []
    },
    {
      "cell_type": "markdown",
      "metadata": {
        "id": "T5DzUjA3BWD7"
      },
      "source": [
        "### build and train MLP\r\n",
        "multi-layer perceptron predicts dense representation of review based on the data about the wine"
      ]
    },
    {
      "cell_type": "code",
      "metadata": {
        "id": "r-kYlBaXqLTP"
      },
      "source": [
        "model = keras.models.Sequential()\r\n",
        "model.add(keras.layers.Dense(512))\r\n",
        "model.add(keras.layers.Dropout(0.2))\r\n",
        "model.add(keras.layers.Dense(1024))\r\n",
        "model.add(keras.layers.Dropout(0.2))\r\n",
        "model.add(keras.layers.Dense(2048))\r\n",
        "model.add(keras.layers.Dropout(0.2))\r\n",
        "model.add(keras.layers.Dense(1024))\r\n",
        "model.add(keras.layers.Dropout(0.2))\r\n",
        "model.add(keras.layers.Dense(512))\r\n",
        "model.compile(\"adam\", \"mean_squared_error\", metrics=[\"accuracy\"])"
      ],
      "execution_count": null,
      "outputs": []
    },
    {
      "cell_type": "code",
      "metadata": {
        "colab": {
          "base_uri": "https://localhost:8080/"
        },
        "id": "Cwzv9ZyqrAcZ",
        "outputId": "8ddf386e-6634-48e7-c40c-6db9c968d82c"
      },
      "source": [
        "model.fit(np.array(X), np.array(y), epochs=2, batch_size=64, validation_split=0.2)"
      ],
      "execution_count": null,
      "outputs": [
        {
          "output_type": "stream",
          "text": [
            "Epoch 1/2\n",
            "1887/1887 [==============================] - 8s 4ms/step - loss: 0.0012 - accuracy: 0.1749 - val_loss: 0.0010 - val_accuracy: 0.2396\n",
            "Epoch 2/2\n",
            "1887/1887 [==============================] - 7s 4ms/step - loss: 9.9163e-04 - accuracy: 0.2483 - val_loss: 0.0010 - val_accuracy: 0.3283\n"
          ],
          "name": "stdout"
        },
        {
          "output_type": "execute_result",
          "data": {
            "text/plain": [
              "<tensorflow.python.keras.callbacks.History at 0x7f0a022295c0>"
            ]
          },
          "metadata": {
            "tags": []
          },
          "execution_count": 40
        }
      ]
    },
    {
      "cell_type": "code",
      "metadata": {
        "id": "4l_A9AEa4Kwd"
      },
      "source": [
        "def compute_distance(target, non_target):\r\n",
        "    return np.linalg.norm(target-non_target)\r\n",
        "def best_indexes(string, num=10, embedding=y):\r\n",
        "    distances = [compute_distance(np.array(encode(string)), emb).tolist() for emb in embedding]\r\n",
        "    ind = distances.index(np.array(distances).min(0).tolist())\r\n",
        "    s = sorted(distances)\r\n",
        "    s = list(set(s))\r\n",
        "    return [distances.index(s2) for s2 in s[:num]]\r\n",
        "def best_raw(string, num=10, embedding=y):\r\n",
        "    distances = [compute_distance(np.array(string), emb).tolist() for emb in embedding]\r\n",
        "    ind = distances.index(np.array(distances).min(0).tolist())\r\n",
        "    s = sorted(distances)\r\n",
        "    s = list(set(s)) \r\n",
        "    return [distances.index(s2) for s2 in s[:num]]"
      ],
      "execution_count": null,
      "outputs": []
    },
    {
      "cell_type": "markdown",
      "metadata": {
        "id": "hA6v-C4Q_f39"
      },
      "source": [
        "# tagging a wine\r\n",
        "country - The country that the wine is from.\r\n",
        "\r\n",
        "province - The province or state that the wine is from.\r\n",
        "\r\n",
        "region - The wine growing area in a province or state (ie Napa, Willamette Valley).\r\n",
        "\r\n",
        "winery - The winery that made the wine.\r\n",
        "\r\n",
        "designation - The vineyard within the winery where the grapes that made the wine are from.\r\n",
        "\r\n",
        "variety - The type of grapes used to make the wine (ie Pinot Noir).\r\n",
        "\r\n",
        "price - The cost for a bottle of the wine.\r\n",
        "\r\n",
        "\r\n",
        "\r\n"
      ]
    },
    {
      "cell_type": "code",
      "metadata": {
        "colab": {
          "base_uri": "https://localhost:8080/"
        },
        "id": "2LjkNs_b4jwr",
        "outputId": "04c6a31a-73bc-4328-aa72-ddc2d5bc5b72"
      },
      "source": [
        "#@title Create Tags\n",
        "country = \"France\" #@param {type:\"string\"}\n",
        "province = \"Provence\" #@param {type:\"string\"}\n",
        "region = \"Bandol\" #@param {type:\"string\"}\n",
        "winery = \"Domaine de la B\\xE9gude\" #@param {type:\"string\"}\n",
        "designation = \"La Br\\xFBlade\" #@param {type:\"string\"}\n",
        "variety = \"Provence red blend\" #@param {type:\"string\"}\n",
        "price = \"66.0\" #@param {type:\"string\"}\n",
        "\n",
        "# country = input(\"The country that the wine is from (Blank for Unsure): \")\n",
        "# designation = input(\"The vineyard within the winery where the grapes that made the wine are from (Blank for Unsure): \")\n",
        "# province = input(\"The province or state that the wine is from (Blank for Unsure): \")\n",
        "# region = input(\"The wine growing area in a province or state (ie Napa, Willamette Valley)(Blank for Unsure): \")\n",
        "# variety = input(\"The type of grapes used to make the wine (ie Pinot Noir)(Blank for Unsure): \")\n",
        "# winery = input(\"The winery that made the wine (Blank for Unsure): \")\n",
        "# price = input(\"The cost for a bottle of the wine (Blank for Unsure): \")\n",
        "\n",
        "# all of these are combined and represented as one 512 dimensional dense representation\n",
        "# fed to the mlp, and the result is another 512 dim vector\n",
        "# that we can use to find the closest real review,\n",
        "# extract adjectives from it to use as tags\n",
        "# and move on with our day\n",
        "\n",
        "input_data = country + \" \" + designation + \" \" + region + \" \" + variety + \" \" + winery + \" Price: $\"+price + \" \" + province\n",
        "input_vect = encode(input_data)\n",
        "matches = best_raw(model.predict(np.array([input_vect]))[0])\n",
        "\n",
        "print(\"\\n\", \"#\"*30, \"\\n\")\n",
        "print(\"Best Match: \")\n",
        "# print(revcopy[matches[0]]) # this will just print out the whole review referenced\n",
        "tags = []\n",
        "doc = nlp(revcopy[matches[0]])\n",
        "for token in doc:\n",
        "    if(token.pos_ == \"ADJ\"):\n",
        "        # print(token.pos_, token.text) # this would show the part of speech of the word, then the word's text\n",
        "        if(str(token.text) not in tags):\n",
        "            tags.append(str(token.text).lower())\n",
        "print(', '.join(tags))\n",
        "print(\"\\n\", \"#\"*30, \"\\n\")\n",
        "\n",
        "# the real review for this wine was:\n",
        "# \"\"\"This is the top wine from La Bégude, named after the highest point in the vineyard at 1200 feet. It has structure, density and considerable acidity that is still calming down. With 18 months in wood, the wine has developing an extra richness and concentration. Produced by the Tari family, formerly of Château Giscours in Margaux, it is a wine made for aging. Drink from 2020.\"\"\""
      ],
      "execution_count": null,
      "outputs": [
        {
          "output_type": "stream",
          "text": [
            "\n",
            " ############################## \n",
            "\n",
            "Best Match: \n",
            "second, ripe, broad, full, bright, red, fresh, gentle\n",
            "\n",
            " ############################## \n",
            "\n"
          ],
          "name": "stdout"
        }
      ]
    }
  ]
}